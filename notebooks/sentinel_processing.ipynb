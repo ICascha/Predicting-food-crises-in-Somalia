{
 "cells": [
  {
   "cell_type": "code",
   "execution_count": 2,
   "metadata": {},
   "outputs": [
    {
     "name": "stderr",
     "output_type": "stream",
     "text": [
      "c:\\Users\\casch\\anaconda3\\envs\\geo_env\\lib\\site-packages\\tqdm\\auto.py:22: TqdmWarning: IProgress not found. Please update jupyter and ipywidgets. See https://ipywidgets.readthedocs.io/en/stable/user_install.html\n",
      "  from .autonotebook import tqdm as notebook_tqdm\n"
     ]
    }
   ],
   "source": [
    "from sentinelhub import SHConfig\n",
    "\n",
    "config = SHConfig()\n",
    "config.sh_client_id = 'CLIENT_ID'\n",
    "config.sh_client_secret  = 'CLIENT_SECRET'\n",
    "\n",
    "if not config.sh_client_id or not config.sh_client_secret:\n",
    "    print(\"Warning! To use Process API, please provide the credentials (OAuth client ID and client secret).\")"
   ]
  },
  {
   "cell_type": "code",
   "execution_count": 3,
   "metadata": {},
   "outputs": [],
   "source": [
    "%reload_ext autoreload\n",
    "%autoreload 2\n",
    "%matplotlib inline"
   ]
  },
  {
   "cell_type": "code",
   "execution_count": 8,
   "metadata": {},
   "outputs": [],
   "source": [
    "import os\n",
    "import datetime\n",
    "import numpy as np\n",
    "import matplotlib.pyplot as plt\n",
    "import pandas as pd\n",
    "from auxiliary_code.helper_functions import *\n",
    "from shapely.geometry import Polygon\n",
    "import geopandas as gpd\n",
    "\n",
    "from sentinelhub import MimeType, CRS, BBox, SentinelHubRequest, SentinelHubDownloadClient, \\\n",
    "    DataCollection, bbox_to_dimensions, DownloadRequest"
   ]
  },
  {
   "cell_type": "code",
   "execution_count": 9,
   "metadata": {},
   "outputs": [],
   "source": [
    "df_shape = get_shape_file('../geography/Somalia/Som_Admbnda_Adm2_UNDP.shp')\n",
    "df_bbox = df_shape.bounds"
   ]
  },
  {
   "cell_type": "code",
   "execution_count": 10,
   "metadata": {},
   "outputs": [],
   "source": [
    "polygon_geom = []\n",
    "for bounds in df_bbox.to_numpy():\n",
    "    polygon_geom.append(Polygon(zip(bounds[[0, 0, 2, 2, 0]], bounds[[1, 3, 3, 1, 1]])))\n",
    "\n",
    "polygons = gpd.GeoDataFrame(index=range(len(polygon_geom)), geometry=polygon_geom)    "
   ]
  },
  {
   "cell_type": "code",
   "execution_count": 11,
   "metadata": {},
   "outputs": [
    {
     "data": {
      "image/png": "[encoded data removed]",
      "text/plain": [
       "<Figure size 432x288 with 1 Axes>"
      ]
     },
     "metadata": {
      "needs_background": "light"
     },
     "output_type": "display_data"
    }
   ],
   "source": [
    "fig, ax = plt.subplots()\n",
    "df_shape.plot(ax=ax)\n",
    "polygons.plot(ax=ax, color=None, edgecolor=\"red\", alpha=0.5)\n",
    "ax.axis('off')\n",
    "\n",
    "fig.savefig('../figures/bbox_bounds.pdf', format='pdf')"
   ]
  },
  {
   "cell_type": "code",
   "execution_count": 12,
   "metadata": {},
   "outputs": [
    {
     "name": "stdout",
     "output_type": "stream",
     "text": [
      "Image shape at 120 m resolution: (333, 190) pixels\n"
     ]
    }
   ],
   "source": [
    "coords= list(df_bbox.iloc[0])\n",
    "resolution = 120\n",
    "betsiboka_bbox = BBox(bbox=coords, crs=CRS.WGS84)\n",
    "betsiboka_size = bbox_to_dimensions(betsiboka_bbox, resolution=resolution)\n",
    "\n",
    "print(f'Image shape at {resolution} m resolution: {betsiboka_size} pixels')"
   ]
  },
  {
   "cell_type": "code",
   "execution_count": 13,
   "metadata": {},
   "outputs": [],
   "source": [
    "evalscript_all_bands = \"\"\"\n",
    "    //VERSION=3\n",
    "    function setup() {\n",
    "        return {\n",
    "            input: [{\n",
    "                bands: [\"B01\",\"B02\",\"B03\",\"B04\",\"B05\",\"B06\",\"B07\",\"B08\",\"B8A\",\"B09\",\"B10\",\"B11\",\"B12\"],\n",
    "                units: \"DN\"\n",
    "            }],\n",
    "            output: {\n",
    "                bands: 13,\n",
    "                sampleType: \"INT16\"\n",
    "            }\n",
    "        };\n",
    "    }\n",
    "\n",
    "    function evaluatePixel(sample) {\n",
    "        return [sample.B01,\n",
    "                sample.B02,\n",
    "                sample.B03,\n",
    "                sample.B04,\n",
    "                sample.B05,\n",
    "                sample.B06,\n",
    "                sample.B07,\n",
    "                sample.B08,\n",
    "                sample.B8A,\n",
    "                sample.B09,\n",
    "                sample.B10,\n",
    "                sample.B11,\n",
    "                sample.B12];\n",
    "    }\n",
    "\"\"\""
   ]
  },
  {
   "cell_type": "code",
   "execution_count": 14,
   "metadata": {},
   "outputs": [
    {
     "name": "stdout",
     "output_type": "stream",
     "text": [
      "Monthly time windows:\n",
      "\n",
      "('2020-01-01', '2020-02-01')\n",
      "('2020-02-01', '2020-03-01')\n",
      "('2020-03-01', '2020-04-01')\n",
      "('2020-04-01', '2020-05-01')\n",
      "('2020-05-01', '2020-06-01')\n",
      "('2020-06-01', '2020-07-01')\n",
      "('2020-07-01', '2020-08-01')\n",
      "('2020-08-01', '2020-09-01')\n",
      "('2020-09-01', '2020-10-01')\n",
      "('2020-10-01', '2020-11-01')\n",
      "('2020-11-01', '2020-12-01')\n",
      "('2020-12-01', '2021-01-01')\n"
     ]
    }
   ],
   "source": [
    "year = 2020\n",
    "\n",
    "start = datetime.datetime(year,1,1)\n",
    "month = pd.DateOffset(months=1)\n",
    "edges = [(start + month * i).date().isoformat() for i in range(13)]\n",
    "slots = [(edges[i], edges[i+1]) for i in range(len(edges)-1)]\n",
    "\n",
    "print('Monthly time windows:\\n')\n",
    "for slot in slots:\n",
    "    print(slot)"
   ]
  },
  {
   "cell_type": "code",
   "execution_count": 15,
   "metadata": {},
   "outputs": [],
   "source": [
    "def get_request(time_interval, bbox, size):\n",
    "    return SentinelHubRequest(\n",
    "        evalscript=evalscript_all_bands,\n",
    "        input_data=[\n",
    "            SentinelHubRequest.input_data(\n",
    "                data_collection=DataCollection.SENTINEL2_L1C,\n",
    "                time_interval=time_interval,\n",
    "                mosaicking_order='leastCC'\n",
    "            )\n",
    "        ],\n",
    "        responses=[\n",
    "            SentinelHubRequest.output_response('default', MimeType.TIFF)\n",
    "        ],\n",
    "        bbox=bbox,\n",
    "        size=size,\n",
    "        config=config\n",
    "    )"
   ]
  },
  {
   "cell_type": "code",
   "execution_count": 1,
   "metadata": {},
   "outputs": [],
   "source": [
    "path = f'E:/sentinel/{year}_new/'\n",
    "resolution = 120\n",
    "\n",
    "for idx, row in df_bbox.iterrows():\n",
    "    bbox = BBox(bbox=list(row), crs=CRS.WGS84)\n",
    "    size = bbox_to_dimensions(bbox, resolution=resolution)\n",
    "    # create a list of requests\n",
    "    list_of_requests = [get_request(slot, bbox, size) for slot in slots]\n",
    "    list_of_requests = [request.download_list[0] for request in list_of_requests]\n",
    "    # download data with multiple threads\n",
    "    data = SentinelHubDownloadClient(config=config).download(list_of_requests, max_threads=5)\n",
    "    data = np.array(data)\n",
    "    np.save(path + idx + '.npy')"
   ]
  }
 ],
 "metadata": {
  "kernelspec": {
   "display_name": "Python 3.10.4 ('geo_env')",
   "language": "python",
   "name": "python3"
  },
  "language_info": {
   "codemirror_mode": {
    "name": "ipython",
    "version": 3
   },
   "file_extension": ".py",
   "mimetype": "text/x-python",
   "name": "python",
   "nbconvert_exporter": "python",
   "pygments_lexer": "ipython3",
   "version": "3.10.4"
  },
  "vscode": {
   "interpreter": {
    "hash": "8a36d43513a0c594ef50631855dc064693dac3722a6429bb1ee70e59be59af33"
   }
  }
 },
 "nbformat": 4,
 "nbformat_minor": 4
}
