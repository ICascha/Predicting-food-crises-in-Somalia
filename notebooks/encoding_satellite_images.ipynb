{
 "cells": [
  {
   "cell_type": "code",
   "execution_count": 1,
   "metadata": {},
   "outputs": [],
   "source": [
    "from tensorflow.keras.models import load_model\n",
    "import numpy as np\n",
    "from os import listdir\n",
    "from patchify import patchify"
   ]
  },
  {
   "cell_type": "code",
   "execution_count": 2,
   "metadata": {},
   "outputs": [
    {
     "name": "stdout",
     "output_type": "stream",
     "text": [
      "WARNING:tensorflow:No training configuration found in save file, so the model was *not* compiled. Compile it manually.\n",
      "WARNING:tensorflow:No training configuration found in save file, so the model was *not* compiled. Compile it manually.\n"
     ]
    }
   ],
   "source": [
    "encoder = load_model('../models/trained_encoder_64')\n",
    "decoder = load_model('../models/trained_decoder_64')"
   ]
  },
  {
   "cell_type": "code",
   "execution_count": 3,
   "metadata": {},
   "outputs": [],
   "source": [
    "mean = np.array([1760.05905547, 1656.2374742 , 1810.36448373, 2438.49436954,\n",
    "   2556.47042701, 2876.79443434, 3165.31554056, 2995.23723349,\n",
    "   3407.94282626,  775.14546495,   20.60749623, 3919.13481428,\n",
    "   2938.35861981])\n",
    "\n",
    "std = np.array([ 723.10965756,  785.59461309,  835.9313834 , 1064.44026277,\n",
    "   1045.3049899 , 1057.90164703, 1123.31538591, 1060.01203872,\n",
    "   1167.78468906,  433.82170561,   22.23551899, 1295.95783439,\n",
    "   1075.76407614])"
   ]
  },
  {
   "cell_type": "code",
   "execution_count": 16,
   "metadata": {},
   "outputs": [],
   "source": [
    "year = 2017\n",
    "dir = f'E:/sentinel/{year}_new/'\n",
    "target_dir = f'E:/sentinel/{year}_new_encoded/'\n",
    "districts = listdir(dir)\n",
    "n_months = 12\n",
    "patch_size = 256\n",
    "n_channels = 13\n",
    "\n",
    "for district in districts:\n",
    "    X = np.load(dir + district)\n",
    "    if not (X.shape[1] // 256 and X.shape[2] // 256):\n",
    "        continue\n",
    "    \n",
    "    patches = patchify(X, (n_months, patch_size, patch_size, n_channels), patch_size).reshape(-1, patch_size, patch_size, n_channels)\n",
    "    n_patches = patches.shape[0]//12\n",
    "    encoded_X = encoder.predict((patches - mean)/std)\n",
    "    encoded_X = encoded_X.reshape(n_patches, n_months, 16, 16, 64)\n",
    "    np.save(target_dir + district, encoded_X)\n",
    "    del X, encoded_X, patches"
   ]
  },
  {
   "cell_type": "code",
   "execution_count": 17,
   "metadata": {},
   "outputs": [],
   "source": [
    "year = 2018\n",
    "dir = f'E:/sentinel/{year}_new/'\n",
    "target_dir = f'E:/sentinel/{year}_new_encoded/'\n",
    "districts = listdir(dir)\n",
    "n_months = 12\n",
    "patch_size = 256\n",
    "n_channels = 13\n",
    "\n",
    "for district in districts:\n",
    "    X = np.load(dir + district)\n",
    "    if not (X.shape[1] // 256 and X.shape[2] // 256):\n",
    "        continue\n",
    "    \n",
    "    patches = patchify(X, (n_months, patch_size, patch_size, n_channels), patch_size).reshape(-1, patch_size, patch_size, n_channels)\n",
    "    n_patches = patches.shape[0]//12\n",
    "    encoded_X = encoder.predict((patches - mean)/std)\n",
    "    encoded_X = encoded_X.reshape(n_patches, n_months, 16, 16, 64)\n",
    "    np.save(target_dir + district, encoded_X)\n",
    "    del X, encoded_X, patches"
   ]
  },
  {
   "cell_type": "code",
   "execution_count": 18,
   "metadata": {},
   "outputs": [],
   "source": [
    "year = 2019\n",
    "dir = f'E:/sentinel/{year}_new/'\n",
    "target_dir = f'E:/sentinel/{year}_new_encoded/'\n",
    "districts = listdir(dir)\n",
    "n_months = 12\n",
    "patch_size = 256\n",
    "n_channels = 13\n",
    "\n",
    "for district in districts:\n",
    "    X = np.load(dir + district)\n",
    "    if not (X.shape[1] // 256 and X.shape[2] // 256):\n",
    "        continue\n",
    "    \n",
    "    patches = patchify(X, (n_months, patch_size, patch_size, n_channels), patch_size).reshape(-1, patch_size, patch_size, n_channels)\n",
    "    n_patches = patches.shape[0]//12\n",
    "    encoded_X = encoder.predict((patches - mean)/std)\n",
    "    encoded_X = encoded_X.reshape(n_patches, n_months, 16, 16, 64)\n",
    "    np.save(target_dir + district, encoded_X)\n",
    "    del X, encoded_X, patches"
   ]
  },
  {
   "cell_type": "code",
   "execution_count": 19,
   "metadata": {},
   "outputs": [],
   "source": [
    "year = 2020\n",
    "dir = f'E:/sentinel/{year}_new/'\n",
    "target_dir = f'E:/sentinel/{year}_new_encoded/'\n",
    "districts = listdir(dir)\n",
    "n_months = 12\n",
    "patch_size = 256\n",
    "n_channels = 13\n",
    "\n",
    "for district in districts:\n",
    "    X = np.load(dir + district)\n",
    "    if not (X.shape[1] // 256 and X.shape[2] // 256):\n",
    "        continue\n",
    "    \n",
    "    patches = patchify(X, (n_months, patch_size, patch_size, n_channels), patch_size).reshape(-1, patch_size, patch_size, n_channels)\n",
    "    n_patches = patches.shape[0]//12\n",
    "    encoded_X = encoder.predict((patches - mean)/std)\n",
    "    encoded_X = encoded_X.reshape(n_patches, n_months, 16, 16, 64)\n",
    "    np.save(target_dir + district, encoded_X)\n",
    "    del X, encoded_X, patches"
   ]
  },
  {
   "cell_type": "code",
   "execution_count": 4,
   "metadata": {},
   "outputs": [],
   "source": [
    "year = 2021\n",
    "dir = f'E:/sentinel/{year}_new/'\n",
    "target_dir = f'E:/sentinel/{year}_new_encoded/'\n",
    "districts = listdir(dir)\n",
    "n_months = 12\n",
    "patch_size = 256\n",
    "n_channels = 13\n",
    "\n",
    "for district in districts:\n",
    "    X = np.load(dir + district)\n",
    "    if not (X.shape[1] // 256 and X.shape[2] // 256):\n",
    "        continue\n",
    "    \n",
    "    patches = patchify(X, (n_months, patch_size, patch_size, n_channels), patch_size).reshape(-1, patch_size, patch_size, n_channels)\n",
    "    n_patches = patches.shape[0]//12\n",
    "    encoded_X = encoder.predict((patches - mean)/std)\n",
    "    encoded_X = encoded_X.reshape(n_patches, n_months, 16, 16, 64)\n",
    "    np.save(target_dir + district, encoded_X)\n",
    "    del X, encoded_X, patches"
   ]
  }
 ],
 "metadata": {
  "kernelspec": {
   "display_name": "Python 3.9.12 ('tf')",
   "language": "python",
   "name": "python3"
  },
  "language_info": {
   "codemirror_mode": {
    "name": "ipython",
    "version": 3
   },
   "file_extension": ".py",
   "mimetype": "text/x-python",
   "name": "python",
   "nbconvert_exporter": "python",
   "pygments_lexer": "ipython3",
   "version": "3.9.12"
  },
  "orig_nbformat": 4,
  "vscode": {
   "interpreter": {
    "hash": "fa443dfdf13c7d025c3969d2e45db3c0a727cd2b8baedd41358212f74a7ad02b"
   }
  }
 },
 "nbformat": 4,
 "nbformat_minor": 2
}
