{
 "cells": [
  {
   "cell_type": "code",
   "execution_count": 11,
   "metadata": {},
   "outputs": [],
   "source": [
    "save_figures = True\n",
    "save_tables = True"
   ]
  },
  {
   "cell_type": "code",
   "execution_count": 12,
   "metadata": {},
   "outputs": [],
   "source": [
    "from shapely.geometry import Point, Polygon\n",
    "import geoplot\n",
    "import geoplot.crs as gcrs\n",
    "\n",
    "\n",
    "import pandas as pd\n",
    "import matplotlib.pyplot as plt\n",
    "import numpy as np\n",
    "import statsmodels.api as sm\n",
    "import seaborn as sns\n",
    "import geopandas as gpd"
   ]
  },
  {
   "cell_type": "code",
   "execution_count": 14,
   "metadata": {},
   "outputs": [
    {
     "name": "stderr",
     "output_type": "stream",
     "text": [
      "C:\\Users\\casch\\AppData\\Local\\Temp\\ipykernel_20892\\281240971.py:1: UserWarning: Geometry is in a geographic CRS. Results from 'centroid' are likely incorrect. Use 'GeoSeries.to_crs()' to re-project geometries to a projected CRS before this operation.\n",
      "\n",
      "  df_loc = pd.concat([gdf['area'], gdf.centroid.x, gdf.centroid.y], axis=1)\n",
      "C:\\Users\\casch\\AppData\\Local\\Temp\\ipykernel_20892\\281240971.py:1: UserWarning: Geometry is in a geographic CRS. Results from 'centroid' are likely incorrect. Use 'GeoSeries.to_crs()' to re-project geometries to a projected CRS before this operation.\n",
      "\n",
      "  df_loc = pd.concat([gdf['area'], gdf.centroid.x, gdf.centroid.y], axis=1)\n"
     ]
    }
   ],
   "source": [
    "gdf = gpd.read_file('../datasets/kenya_ipc.geojson')\n",
    "df_loc = pd.concat([gdf['area'], gdf.centroid.x, gdf.centroid.y], axis=1)\n",
    "df_loc.columns = ['area', 'long', 'lat']\n",
    "gdf.set_index('area', inplace=True)"
   ]
  },
  {
   "cell_type": "code",
   "execution_count": 16,
   "metadata": {},
   "outputs": [],
   "source": [
    "df_ke = pd.read_csv('../datasets/kenya_ipc.csv', sep=';', header=None, usecols=[0, 3, 4, 5])\n",
    "df_ke.columns = ['area', 'date', '3_plus', '3_plus_proj']\n",
    "df_ke['date'] = pd.to_datetime(df_ke['date'])\n",
    "df_ke = df_ke.merge(df_loc, left_on=['area'], right_on=['area'])\n",
    "df_ke['3_plus'] = df_ke['3_plus'].str.rstrip('%').astype('int')\n",
    "df_ke['3_plus_proj'] = df_ke['3_plus_proj'].str.rstrip('%').astype('int')\n",
    "df_ipc = df_ke"
   ]
  },
  {
   "cell_type": "code",
   "execution_count": 17,
   "metadata": {},
   "outputs": [
    {
     "data": {
      "image/png": "[encoded data removed]",
      "text/plain": [
       "<Figure size 432x288 with 2 Axes>"
      ]
     },
     "metadata": {
      "needs_background": "light"
     },
     "output_type": "display_data"
    }
   ],
   "source": [
    "fig, ax = plt.subplots()\n",
    "gdf.merge(df_ipc.groupby('area')['3_plus'].mean(), left_on='area', right_index=True).plot('3_plus', cmap='RdYlGn_r', legend=True, ax=ax)\n",
    "ax.axis('off')\n",
    "fig.savefig('../figures/kenya_ipc_dist.pdf', format='pdf')"
   ]
  },
  {
   "cell_type": "code",
   "execution_count": 18,
   "metadata": {},
   "outputs": [],
   "source": [
    "df_tweets = pd.read_csv('../datasets/twitter/kenya_tweets.csv', parse_dates=['date'])\n",
    "df_lab = pd.read_csv('../datasets/twitter/tweet_category_labels_kenya.csv')\n",
    "df_tweets = pd.concat([df_tweets, df_lab], axis=1)"
   ]
  },
  {
   "cell_type": "code",
   "execution_count": 19,
   "metadata": {},
   "outputs": [],
   "source": [
    "df = df_tweets[['date', 'label', 'score', 'long', 'lat', ]].copy()\n",
    "df['is_news'] = df['label'] == 'news_&_social_concern'\n",
    "df['is_personal'] = df['label'] == 'diaries_&_daily_life'\n",
    "df['date'] = df['date'].dt.tz_localize(None)"
   ]
  },
  {
   "cell_type": "code",
   "execution_count": 20,
   "metadata": {},
   "outputs": [],
   "source": [
    "areas = []\n",
    "coords = df[['long', 'lat']].to_numpy()\n",
    "for coord in coords:\n",
    "    contains = gdf.contains(Point(coord[0], coord[1]))\n",
    "    if contains.sum() > 0:\n",
    "        area = contains.idxmax()\n",
    "        areas.append(area)\n",
    "    else:\n",
    "        areas.append(None)\n",
    "df['area'] = pd.Series(areas)\n",
    "df = df.dropna(subset='area')"
   ]
  },
  {
   "cell_type": "code",
   "execution_count": 21,
   "metadata": {},
   "outputs": [
    {
     "ename": "KeyboardInterrupt",
     "evalue": "",
     "output_type": "error",
     "traceback": [
      "\u001b[1;31m---------------------------------------------------------------------------\u001b[0m",
      "\u001b[1;31mKeyboardInterrupt\u001b[0m                         Traceback (most recent call last)",
      "\u001b[1;32mc:\\Users\\casch\\Documents\\GitHub\\Predicting-food-crises-in-Somalia\\notebooks\\twitter_data_kenya_regressions.ipynb Cell 11'\u001b[0m in \u001b[0;36m<cell line: 1>\u001b[1;34m()\u001b[0m\n\u001b[1;32m----> <a href='vscode-notebook-cell:/c%3A/Users/casch/Documents/GitHub/Predicting-food-crises-in-Somalia/notebooks/twitter_data_kenya_regressions.ipynb#ch0000010?line=0'>1</a>\u001b[0m ax \u001b[39m=\u001b[39m geoplot\u001b[39m.\u001b[39;49mkdeplot(gpd\u001b[39m.\u001b[39;49mGeoDataFrame(geometry\u001b[39m=\u001b[39;49mgpd\u001b[39m.\u001b[39;49mpoints_from_xy(df\u001b[39m.\u001b[39;49mlong, df\u001b[39m.\u001b[39;49mlat)), projection\u001b[39m=\u001b[39;49mgcrs\u001b[39m.\u001b[39;49mAlbersEqualArea(), cmap\u001b[39m=\u001b[39;49m\u001b[39m'\u001b[39;49m\u001b[39mcool\u001b[39;49m\u001b[39m'\u001b[39;49m, shade\u001b[39m=\u001b[39;49m\u001b[39mTrue\u001b[39;49;00m, clip\u001b[39m=\u001b[39;49mgdf, alpha\u001b[39m=\u001b[39;49m\u001b[39m1\u001b[39;49m)\n\u001b[0;32m      <a href='vscode-notebook-cell:/c%3A/Users/casch/Documents/GitHub/Predicting-food-crises-in-Somalia/notebooks/twitter_data_kenya_regressions.ipynb#ch0000010?line=1'>2</a>\u001b[0m geoplot\u001b[39m.\u001b[39mpolyplot(gdf, ax\u001b[39m=\u001b[39max, zorder\u001b[39m=\u001b[39m\u001b[39m1000\u001b[39m, projection\u001b[39m=\u001b[39mgcrs\u001b[39m.\u001b[39mAlbersEqualArea());\n\u001b[0;32m      <a href='vscode-notebook-cell:/c%3A/Users/casch/Documents/GitHub/Predicting-food-crises-in-Somalia/notebooks/twitter_data_kenya_regressions.ipynb#ch0000010?line=3'>4</a>\u001b[0m \u001b[39mif\u001b[39;00m save_figures:\n",
      "File \u001b[1;32mc:\\Users\\casch\\anaconda3\\envs\\geo_env\\lib\\site-packages\\geoplot\\geoplot.py:1317\u001b[0m, in \u001b[0;36mkdeplot\u001b[1;34m(df, projection, extent, figsize, ax, clip, **kwargs)\u001b[0m\n\u001b[0;32m   1310\u001b[0m             sns\u001b[39m.\u001b[39mkdeplot(\n\u001b[0;32m   1311\u001b[0m                 x\u001b[39m=\u001b[39mpd\u001b[39m.\u001b[39mSeries([p\u001b[39m.\u001b[39mx \u001b[39mfor\u001b[39;00m p \u001b[39min\u001b[39;00m \u001b[39mself\u001b[39m\u001b[39m.\u001b[39mdf\u001b[39m.\u001b[39mgeometry]),\n\u001b[0;32m   1312\u001b[0m                 y\u001b[39m=\u001b[39mpd\u001b[39m.\u001b[39mSeries([p\u001b[39m.\u001b[39my \u001b[39mfor\u001b[39;00m p \u001b[39min\u001b[39;00m \u001b[39mself\u001b[39m\u001b[39m.\u001b[39mdf\u001b[39m.\u001b[39mgeometry]),\n\u001b[0;32m   1313\u001b[0m                 ax\u001b[39m=\u001b[39max, \u001b[39m*\u001b[39m\u001b[39m*\u001b[39m\u001b[39mself\u001b[39m\u001b[39m.\u001b[39mkwargs\n\u001b[0;32m   1314\u001b[0m             )\n\u001b[0;32m   1315\u001b[0m         \u001b[39mreturn\u001b[39;00m ax\n\u001b[1;32m-> 1317\u001b[0m plot \u001b[39m=\u001b[39m KDEPlot(\n\u001b[0;32m   1318\u001b[0m     df, projection\u001b[39m=\u001b[39mprojection, extent\u001b[39m=\u001b[39mextent, figsize\u001b[39m=\u001b[39mfigsize, ax\u001b[39m=\u001b[39max, clip\u001b[39m=\u001b[39mclip, \u001b[39m*\u001b[39m\u001b[39m*\u001b[39mkwargs\n\u001b[0;32m   1319\u001b[0m )\n\u001b[0;32m   1320\u001b[0m \u001b[39mreturn\u001b[39;00m plot\u001b[39m.\u001b[39mdraw()\n",
      "File \u001b[1;32mc:\\Users\\casch\\anaconda3\\envs\\geo_env\\lib\\site-packages\\geoplot\\geoplot.py:1295\u001b[0m, in \u001b[0;36mkdeplot.<locals>.KDEPlot.__init__\u001b[1;34m(self, df, **kwargs)\u001b[0m\n\u001b[0;32m   1294\u001b[0m \u001b[39mdef\u001b[39;00m \u001b[39m__init__\u001b[39m(\u001b[39mself\u001b[39m, df, \u001b[39m*\u001b[39m\u001b[39m*\u001b[39mkwargs):\n\u001b[1;32m-> 1295\u001b[0m     \u001b[39msuper\u001b[39m()\u001b[39m.\u001b[39m\u001b[39m__init__\u001b[39m(df, \u001b[39m*\u001b[39m\u001b[39m*\u001b[39mkwargs)\n\u001b[0;32m   1296\u001b[0m     \u001b[39mself\u001b[39m\u001b[39m.\u001b[39mpaint_clip()\n",
      "File \u001b[1;32mc:\\Users\\casch\\anaconda3\\envs\\geo_env\\lib\\site-packages\\geoplot\\geoplot.py:628\u001b[0m, in \u001b[0;36mPlot.__init__\u001b[1;34m(self, df, **kwargs)\u001b[0m\n\u001b[0;32m    626\u001b[0m \u001b[39mself\u001b[39m\u001b[39m.\u001b[39mprojection \u001b[39m=\u001b[39m kwargs\u001b[39m.\u001b[39mpop(\u001b[39m'\u001b[39m\u001b[39mprojection\u001b[39m\u001b[39m'\u001b[39m)\n\u001b[0;32m    627\u001b[0m \u001b[39m# TODO: init_axes() -> init_axes(ax)\u001b[39;00m\n\u001b[1;32m--> 628\u001b[0m \u001b[39mself\u001b[39;49m\u001b[39m.\u001b[39;49minit_axes()\n\u001b[0;32m    629\u001b[0m \u001b[39mself\u001b[39m\u001b[39m.\u001b[39mkwargs \u001b[39m=\u001b[39m kwargs\n",
      "File \u001b[1;32mc:\\Users\\casch\\anaconda3\\envs\\geo_env\\lib\\site-packages\\geoplot\\geoplot.py:639\u001b[0m, in \u001b[0;36mPlot.init_axes\u001b[1;34m(self)\u001b[0m\n\u001b[0;32m    637\u001b[0m     extrema \u001b[39m=\u001b[39m np\u001b[39m.\u001b[39marray([\u001b[39m0\u001b[39m, \u001b[39m0\u001b[39m, \u001b[39m1\u001b[39m, \u001b[39m1\u001b[39m])  \u001b[39m# default Matplotlib plot extent\u001b[39;00m\n\u001b[0;32m    638\u001b[0m \u001b[39melse\u001b[39;00m:\n\u001b[1;32m--> 639\u001b[0m     xmin, ymin, xmax, ymax \u001b[39m=\u001b[39m \u001b[39mself\u001b[39;49m\u001b[39m.\u001b[39;49mdf\u001b[39m.\u001b[39;49mtotal_bounds\n\u001b[0;32m    640\u001b[0m     \u001b[39m# Plots suffer clipping issues if we use just the geometry extrema due to plot features\u001b[39;00m\n\u001b[0;32m    641\u001b[0m     \u001b[39m# that fall outside of the viewport. The most common case is the edges of polygon\u001b[39;00m\n\u001b[0;32m    642\u001b[0m     \u001b[39m# patches with non-zero linewidth. We partially ameliorate the problem by increasing\u001b[39;00m\n\u001b[1;32m   (...)\u001b[0m\n\u001b[0;32m    645\u001b[0m     \u001b[39m# degrees varies depending on where you are on the globe. Since the effect is small we\u001b[39;00m\n\u001b[0;32m    646\u001b[0m     \u001b[39m# ignore this problem here, for simplicity's sake.\u001b[39;00m\n\u001b[0;32m    647\u001b[0m     extrema \u001b[39m=\u001b[39m relax_bounds(xmin, ymin, xmax, ymax)\n",
      "File \u001b[1;32mc:\\Users\\casch\\anaconda3\\envs\\geo_env\\lib\\site-packages\\geopandas\\base.py:2584\u001b[0m, in \u001b[0;36mGeoPandasBase.total_bounds\u001b[1;34m(self)\u001b[0m\n\u001b[0;32m   2567\u001b[0m \u001b[39m@property\u001b[39m\n\u001b[0;32m   2568\u001b[0m \u001b[39mdef\u001b[39;00m \u001b[39mtotal_bounds\u001b[39m(\u001b[39mself\u001b[39m):\n\u001b[0;32m   2569\u001b[0m     \u001b[39m\"\"\"Returns a tuple containing ``minx``, ``miny``, ``maxx``, ``maxy``\u001b[39;00m\n\u001b[0;32m   2570\u001b[0m \u001b[39m    values for the bounds of the series as a whole.\u001b[39;00m\n\u001b[0;32m   2571\u001b[0m \n\u001b[1;32m   (...)\u001b[0m\n\u001b[0;32m   2582\u001b[0m \u001b[39m    array([ 0., -1.,  3.,  2.])\u001b[39;00m\n\u001b[0;32m   2583\u001b[0m \u001b[39m    \"\"\"\u001b[39;00m\n\u001b[1;32m-> 2584\u001b[0m     \u001b[39mreturn\u001b[39;00m GeometryArray(\u001b[39mself\u001b[39;49m\u001b[39m.\u001b[39;49mgeometry\u001b[39m.\u001b[39;49mvalues)\u001b[39m.\u001b[39;49mtotal_bounds\n",
      "File \u001b[1;32mc:\\Users\\casch\\anaconda3\\envs\\geo_env\\lib\\site-packages\\geopandas\\array.py:915\u001b[0m, in \u001b[0;36mGeometryArray.total_bounds\u001b[1;34m(self)\u001b[0m\n\u001b[0;32m    911\u001b[0m \u001b[39mif\u001b[39;00m \u001b[39mlen\u001b[39m(\u001b[39mself\u001b[39m) \u001b[39m==\u001b[39m \u001b[39m0\u001b[39m:\n\u001b[0;32m    912\u001b[0m     \u001b[39m# numpy 'min' cannot handle empty arrays\u001b[39;00m\n\u001b[0;32m    913\u001b[0m     \u001b[39m# TODO with numpy >= 1.15, the 'initial' argument can be used\u001b[39;00m\n\u001b[0;32m    914\u001b[0m     \u001b[39mreturn\u001b[39;00m np\u001b[39m.\u001b[39marray([np\u001b[39m.\u001b[39mnan, np\u001b[39m.\u001b[39mnan, np\u001b[39m.\u001b[39mnan, np\u001b[39m.\u001b[39mnan])\n\u001b[1;32m--> 915\u001b[0m b \u001b[39m=\u001b[39m \u001b[39mself\u001b[39;49m\u001b[39m.\u001b[39;49mbounds\n\u001b[0;32m    916\u001b[0m \u001b[39mreturn\u001b[39;00m np\u001b[39m.\u001b[39marray(\n\u001b[0;32m    917\u001b[0m     (\n\u001b[0;32m    918\u001b[0m         np\u001b[39m.\u001b[39mnanmin(b[:, \u001b[39m0\u001b[39m]),  \u001b[39m# minx\u001b[39;00m\n\u001b[1;32m   (...)\u001b[0m\n\u001b[0;32m    922\u001b[0m     )\n\u001b[0;32m    923\u001b[0m )\n",
      "File \u001b[1;32mc:\\Users\\casch\\anaconda3\\envs\\geo_env\\lib\\site-packages\\geopandas\\array.py:907\u001b[0m, in \u001b[0;36mGeometryArray.bounds\u001b[1;34m(self)\u001b[0m\n\u001b[0;32m    905\u001b[0m \u001b[39m@property\u001b[39m\n\u001b[0;32m    906\u001b[0m \u001b[39mdef\u001b[39;00m \u001b[39mbounds\u001b[39m(\u001b[39mself\u001b[39m):\n\u001b[1;32m--> 907\u001b[0m     \u001b[39mreturn\u001b[39;00m vectorized\u001b[39m.\u001b[39;49mbounds(\u001b[39mself\u001b[39;49m\u001b[39m.\u001b[39;49mdata)\n",
      "File \u001b[1;32mc:\\Users\\casch\\anaconda3\\envs\\geo_env\\lib\\site-packages\\geopandas\\_vectorized.py:937\u001b[0m, in \u001b[0;36mbounds\u001b[1;34m(data)\u001b[0m\n\u001b[0;32m    933\u001b[0m     \u001b[39mreturn\u001b[39;00m np\u001b[39m.\u001b[39mempty((\u001b[39m0\u001b[39m, \u001b[39m4\u001b[39m), dtype\u001b[39m=\u001b[39m\u001b[39m\"\u001b[39m\u001b[39mfloat64\u001b[39m\u001b[39m\"\u001b[39m)\n\u001b[0;32m    934\u001b[0m \u001b[39m# need to explicitly check for empty (in addition to missing) geometries,\u001b[39;00m\n\u001b[0;32m    935\u001b[0m \u001b[39m# as those return an empty tuple, not resulting in a 2D array\u001b[39;00m\n\u001b[0;32m    936\u001b[0m bounds \u001b[39m=\u001b[39m np\u001b[39m.\u001b[39marray(\n\u001b[1;32m--> 937\u001b[0m     [\n\u001b[0;32m    938\u001b[0m         geom\u001b[39m.\u001b[39mbounds\n\u001b[0;32m    939\u001b[0m         \u001b[39mif\u001b[39;00m \u001b[39mnot\u001b[39;00m (geom \u001b[39mis\u001b[39;00m \u001b[39mNone\u001b[39;00m \u001b[39mor\u001b[39;00m geom\u001b[39m.\u001b[39mis_empty)\n\u001b[0;32m    940\u001b[0m         \u001b[39melse\u001b[39;00m (np\u001b[39m.\u001b[39mnan, np\u001b[39m.\u001b[39mnan, np\u001b[39m.\u001b[39mnan, np\u001b[39m.\u001b[39mnan)\n\u001b[0;32m    941\u001b[0m         \u001b[39mfor\u001b[39;00m geom \u001b[39min\u001b[39;00m data\n\u001b[0;32m    942\u001b[0m     ]\n\u001b[0;32m    943\u001b[0m )\n\u001b[0;32m    944\u001b[0m \u001b[39mreturn\u001b[39;00m bounds\n",
      "File \u001b[1;32mc:\\Users\\casch\\anaconda3\\envs\\geo_env\\lib\\site-packages\\geopandas\\_vectorized.py:938\u001b[0m, in \u001b[0;36m<listcomp>\u001b[1;34m(.0)\u001b[0m\n\u001b[0;32m    933\u001b[0m     \u001b[39mreturn\u001b[39;00m np\u001b[39m.\u001b[39mempty((\u001b[39m0\u001b[39m, \u001b[39m4\u001b[39m), dtype\u001b[39m=\u001b[39m\u001b[39m\"\u001b[39m\u001b[39mfloat64\u001b[39m\u001b[39m\"\u001b[39m)\n\u001b[0;32m    934\u001b[0m \u001b[39m# need to explicitly check for empty (in addition to missing) geometries,\u001b[39;00m\n\u001b[0;32m    935\u001b[0m \u001b[39m# as those return an empty tuple, not resulting in a 2D array\u001b[39;00m\n\u001b[0;32m    936\u001b[0m bounds \u001b[39m=\u001b[39m np\u001b[39m.\u001b[39marray(\n\u001b[0;32m    937\u001b[0m     [\n\u001b[1;32m--> 938\u001b[0m         geom\u001b[39m.\u001b[39;49mbounds\n\u001b[0;32m    939\u001b[0m         \u001b[39mif\u001b[39;00m \u001b[39mnot\u001b[39;00m (geom \u001b[39mis\u001b[39;00m \u001b[39mNone\u001b[39;00m \u001b[39mor\u001b[39;00m geom\u001b[39m.\u001b[39mis_empty)\n\u001b[0;32m    940\u001b[0m         \u001b[39melse\u001b[39;00m (np\u001b[39m.\u001b[39mnan, np\u001b[39m.\u001b[39mnan, np\u001b[39m.\u001b[39mnan, np\u001b[39m.\u001b[39mnan)\n\u001b[0;32m    941\u001b[0m         \u001b[39mfor\u001b[39;00m geom \u001b[39min\u001b[39;00m data\n\u001b[0;32m    942\u001b[0m     ]\n\u001b[0;32m    943\u001b[0m )\n\u001b[0;32m    944\u001b[0m \u001b[39mreturn\u001b[39;00m bounds\n",
      "File \u001b[1;32mc:\\Users\\casch\\anaconda3\\envs\\geo_env\\lib\\site-packages\\shapely\\geometry\\point.py:153\u001b[0m, in \u001b[0;36mPoint.bounds\u001b[1;34m(self)\u001b[0m\n\u001b[0;32m    151\u001b[0m \u001b[39m\"\"\"Returns minimum bounding region (minx, miny, maxx, maxy)\"\"\"\u001b[39;00m\n\u001b[0;32m    152\u001b[0m \u001b[39mtry\u001b[39;00m:\n\u001b[1;32m--> 153\u001b[0m     xy \u001b[39m=\u001b[39m \u001b[39mself\u001b[39;49m\u001b[39m.\u001b[39;49mcoords[\u001b[39m0\u001b[39;49m]\n\u001b[0;32m    154\u001b[0m \u001b[39mexcept\u001b[39;00m \u001b[39mIndexError\u001b[39;00m:\n\u001b[0;32m    155\u001b[0m     \u001b[39mreturn\u001b[39;00m ()\n",
      "File \u001b[1;32mc:\\Users\\casch\\anaconda3\\envs\\geo_env\\lib\\site-packages\\shapely\\coords.py:77\u001b[0m, in \u001b[0;36mCoordinateSequence.__getitem__\u001b[1;34m(self, key)\u001b[0m\n\u001b[0;32m     76\u001b[0m \u001b[39mdef\u001b[39;00m \u001b[39m__getitem__\u001b[39m(\u001b[39mself\u001b[39m, key):\n\u001b[1;32m---> 77\u001b[0m     \u001b[39mself\u001b[39;49m\u001b[39m.\u001b[39;49m_update()\n\u001b[0;32m     78\u001b[0m     dx \u001b[39m=\u001b[39m c_double()\n\u001b[0;32m     79\u001b[0m     dy \u001b[39m=\u001b[39m c_double()\n",
      "File \u001b[1;32mc:\\Users\\casch\\anaconda3\\envs\\geo_env\\lib\\site-packages\\shapely\\coords.py:44\u001b[0m, in \u001b[0;36mCoordinateSequence._update\u001b[1;34m(self)\u001b[0m\n\u001b[0;32m     43\u001b[0m \u001b[39mdef\u001b[39;00m \u001b[39m_update\u001b[39m(\u001b[39mself\u001b[39m):\n\u001b[1;32m---> 44\u001b[0m     \u001b[39mif\u001b[39;00m \u001b[39mself\u001b[39;49m\u001b[39m.\u001b[39;49m__p__\u001b[39m.\u001b[39;49mis_empty:\n\u001b[0;32m     45\u001b[0m         \u001b[39mself\u001b[39m\u001b[39m.\u001b[39m_ndim \u001b[39m=\u001b[39m \u001b[39mNone\u001b[39;00m\n\u001b[0;32m     46\u001b[0m         \u001b[39mself\u001b[39m\u001b[39m.\u001b[39m_cseq \u001b[39m=\u001b[39m \u001b[39mNone\u001b[39;00m\n",
      "File \u001b[1;32mc:\\Users\\casch\\anaconda3\\envs\\geo_env\\lib\\site-packages\\shapely\\geometry\\base.py:712\u001b[0m, in \u001b[0;36mBaseGeometry.is_empty\u001b[1;34m(self)\u001b[0m\n\u001b[0;32m    709\u001b[0m \u001b[39m@property\u001b[39m\n\u001b[0;32m    710\u001b[0m \u001b[39mdef\u001b[39;00m \u001b[39mis_empty\u001b[39m(\u001b[39mself\u001b[39m):\n\u001b[0;32m    711\u001b[0m     \u001b[39m\"\"\"True if the set of points in this geometry is empty, else False\"\"\"\u001b[39;00m\n\u001b[1;32m--> 712\u001b[0m     \u001b[39mreturn\u001b[39;00m (\u001b[39mself\u001b[39m\u001b[39m.\u001b[39m_geom \u001b[39mis\u001b[39;00m \u001b[39mNone\u001b[39;00m) \u001b[39mor\u001b[39;00m \u001b[39mbool\u001b[39m(\u001b[39mself\u001b[39;49m\u001b[39m.\u001b[39;49mimpl[\u001b[39m'\u001b[39;49m\u001b[39mis_empty\u001b[39;49m\u001b[39m'\u001b[39;49m](\u001b[39mself\u001b[39;49m))\n",
      "File \u001b[1;32mc:\\Users\\casch\\anaconda3\\envs\\geo_env\\lib\\site-packages\\shapely\\predicates.py:25\u001b[0m, in \u001b[0;36mUnaryPredicate.__call__\u001b[1;34m(self, this)\u001b[0m\n\u001b[0;32m     23\u001b[0m \u001b[39mdef\u001b[39;00m \u001b[39m__call__\u001b[39m(\u001b[39mself\u001b[39m, this):\n\u001b[0;32m     24\u001b[0m     \u001b[39mself\u001b[39m\u001b[39m.\u001b[39m_validate(this)\n\u001b[1;32m---> 25\u001b[0m     \u001b[39mreturn\u001b[39;00m \u001b[39mself\u001b[39;49m\u001b[39m.\u001b[39;49mfn(this\u001b[39m.\u001b[39;49m_geom)\n",
      "File \u001b[1;32mc:\\Users\\casch\\anaconda3\\envs\\geo_env\\lib\\site-packages\\shapely\\geos.py:606\u001b[0m, in \u001b[0;36merrcheck_predicate\u001b[1;34m(result, func, argtuple)\u001b[0m\n\u001b[0;32m    599\u001b[0m         \u001b[39mraise\u001b[39;00m TopologicalError(\n\u001b[0;32m    600\u001b[0m             \u001b[39m\"\u001b[39m\u001b[39mThe operation \u001b[39m\u001b[39m'\u001b[39m\u001b[39m{}\u001b[39;00m\u001b[39m'\u001b[39m\u001b[39m could not be performed.\u001b[39m\u001b[39m\"\u001b[39m\n\u001b[0;32m    601\u001b[0m             \u001b[39m\"\u001b[39m\u001b[39mLikely cause is invalidity of the geometry.\u001b[39m\u001b[39m\"\u001b[39m\u001b[39m.\u001b[39mformat(\n\u001b[0;32m    602\u001b[0m                 func\u001b[39m.\u001b[39m\u001b[39m__name__\u001b[39m))\n\u001b[0;32m    603\u001b[0m     \u001b[39mreturn\u001b[39;00m errcheck_just_free(result, func, argtuple)\n\u001b[1;32m--> 606\u001b[0m \u001b[39mdef\u001b[39;00m \u001b[39merrcheck_predicate\u001b[39m(result, func, argtuple):\n\u001b[0;32m    607\u001b[0m     \u001b[39m\"\"\"Result is 2 on exception, 1 on True, 0 on False\"\"\"\u001b[39;00m\n\u001b[0;32m    608\u001b[0m     \u001b[39mif\u001b[39;00m result \u001b[39m==\u001b[39m \u001b[39m2\u001b[39m:\n",
      "\u001b[1;31mKeyboardInterrupt\u001b[0m: "
     ]
    },
    {
     "data": {
      "text/plain": [
       "<Figure size 576x432 with 0 Axes>"
      ]
     },
     "metadata": {},
     "output_type": "display_data"
    }
   ],
   "source": [
    "ax = geoplot.kdeplot(gpd.GeoDataFrame(geometry=gpd.points_from_xy(df.long, df.lat)), projection=gcrs.AlbersEqualArea(), cmap='cool', shade=True, clip=gdf, alpha=1)\n",
    "geoplot.polyplot(gdf, ax=ax, zorder=1000, projection=gcrs.AlbersEqualArea());\n",
    "\n",
    "if save_figures:\n",
    "   plt.savefig('../figures/tweets_location_kenya.pdf', format='pdf')"
   ]
  },
  {
   "cell_type": "code",
   "execution_count": 22,
   "metadata": {},
   "outputs": [],
   "source": [
    "def construct_data(lag, size, date_range=[], dropoff_pow=1, epsilon=0.1, no_drop=False):\n",
    "    data = []\n",
    "    lag = pd.DateOffset(months=lag)\n",
    "    size = pd.DateOffset(months=size)\n",
    "    \n",
    "    if date_range:\n",
    "        date_mask = (df_ipc['date'] >= pd.to_datetime(date_range[0])) & (df_ipc['date'] <= pd.to_datetime(date_range[1]))\n",
    "        df_iterator = df_ipc[date_mask].iterrows()\n",
    "    else:\n",
    "        df_iterator = df_ipc.iterrows()\n",
    "        \n",
    "    for idx, row in df_iterator:\n",
    "        polygon = gdf.loc[row['area']].geometry\n",
    "        mask = (df['date'] <= row['date'] - lag) &\\\n",
    "            (df['date'] >= row['date'] - lag - size)\n",
    "        ipc_mask = (df_ipc['area'] == row['area']) & (df_ipc['date'] <= row['date'] - lag) & (df_ipc['date'] >= row['date'] - lag - size)\n",
    "        temp_df = df[mask]\n",
    "        if len(temp_df) < 1000:\n",
    "            continue\n",
    "        temp_df = temp_df[temp_df['area'] == str(row['area'])]\n",
    "        if(len(temp_df) < 1):\n",
    "            continue\n",
    "        data.append([\n",
    "                np.average(temp_df['is_news'] * temp_df['score']),\n",
    "                np.average(temp_df['is_personal'] * temp_df['score']),\n",
    "                df_ipc[ipc_mask]['3_plus_proj'].mean()/100,\n",
    "                df_ipc[ipc_mask]['3_plus'].mean()/100,\n",
    "                row['3_plus']/100,\n",
    "                row['area'],\n",
    "                row['date']])\n",
    "        \n",
    "    data = pd.DataFrame(data)\n",
    "    data.columns = ['is_news', 'is_personal', '3_plus_proj', '3_plus_past', '3_plus', 'dis', 'date']\n",
    "    if no_drop:\n",
    "        return data\n",
    "    return data.dropna()"
   ]
  },
  {
   "cell_type": "code",
   "execution_count": 23,
   "metadata": {},
   "outputs": [
    {
     "data": {
      "text/html": [
       "<table class=\"simpletable\">\n",
       "<caption>OLS Regression Results</caption>\n",
       "<tr>\n",
       "  <th>Dep. Variable:</th>         <td>3_plus</td>      <th>  R-squared:         </th> <td>   0.326</td>\n",
       "</tr>\n",
       "<tr>\n",
       "  <th>Model:</th>                   <td>OLS</td>       <th>  Adj. R-squared:    </th> <td>   0.309</td>\n",
       "</tr>\n",
       "<tr>\n",
       "  <th>Method:</th>             <td>Least Squares</td>  <th>  F-statistic:       </th> <td>   16.07</td>\n",
       "</tr>\n",
       "<tr>\n",
       "  <th>Date:</th>             <td>Thu, 11 Aug 2022</td> <th>  Prob (F-statistic):</th> <td>1.32e-06</td>\n",
       "</tr>\n",
       "<tr>\n",
       "  <th>Time:</th>                 <td>20:42:42</td>     <th>  Log-Likelihood:    </th> <td>  105.85</td>\n",
       "</tr>\n",
       "<tr>\n",
       "  <th>No. Observations:</th>      <td>    84</td>      <th>  AIC:               </th> <td>  -205.7</td>\n",
       "</tr>\n",
       "<tr>\n",
       "  <th>Df Residuals:</th>          <td>    81</td>      <th>  BIC:               </th> <td>  -198.4</td>\n",
       "</tr>\n",
       "<tr>\n",
       "  <th>Df Model:</th>              <td>     2</td>      <th>                     </th>     <td> </td>   \n",
       "</tr>\n",
       "<tr>\n",
       "  <th>Covariance Type:</th>         <td>hc0</td>       <th>                     </th>     <td> </td>   \n",
       "</tr>\n",
       "</table>\n",
       "<table class=\"simpletable\">\n",
       "<tr>\n",
       "       <td></td>          <th>coef</th>     <th>std err</th>      <th>z</th>      <th>P>|z|</th>  <th>[0.025</th>    <th>0.975]</th>  \n",
       "</tr>\n",
       "<tr>\n",
       "  <th>is_news</th>     <td>    0.1459</td> <td>    0.049</td> <td>    2.971</td> <td> 0.003</td> <td>    0.050</td> <td>    0.242</td>\n",
       "</tr>\n",
       "<tr>\n",
       "  <th>3_plus_proj</th> <td>    0.3697</td> <td>    0.080</td> <td>    4.632</td> <td> 0.000</td> <td>    0.213</td> <td>    0.526</td>\n",
       "</tr>\n",
       "<tr>\n",
       "  <th>const</th>       <td>    0.0053</td> <td>    0.016</td> <td>    0.330</td> <td> 0.741</td> <td>   -0.026</td> <td>    0.037</td>\n",
       "</tr>\n",
       "</table>\n",
       "<table class=\"simpletable\">\n",
       "<tr>\n",
       "  <th>Omnibus:</th>       <td>30.631</td> <th>  Durbin-Watson:     </th> <td>   1.904</td>\n",
       "</tr>\n",
       "<tr>\n",
       "  <th>Prob(Omnibus):</th> <td> 0.000</td> <th>  Jarque-Bera (JB):  </th> <td>  59.794</td>\n",
       "</tr>\n",
       "<tr>\n",
       "  <th>Skew:</th>          <td> 1.366</td> <th>  Prob(JB):          </th> <td>1.04e-13</td>\n",
       "</tr>\n",
       "<tr>\n",
       "  <th>Kurtosis:</th>      <td> 6.102</td> <th>  Cond. No.          </th> <td>    11.4</td>\n",
       "</tr>\n",
       "</table><br/><br/>Notes:<br/>[1] Standard Errors are heteroscedasticity robust (HC0)"
      ],
      "text/plain": [
       "<class 'statsmodels.iolib.summary.Summary'>\n",
       "\"\"\"\n",
       "                            OLS Regression Results                            \n",
       "==============================================================================\n",
       "Dep. Variable:                 3_plus   R-squared:                       0.326\n",
       "Model:                            OLS   Adj. R-squared:                  0.309\n",
       "Method:                 Least Squares   F-statistic:                     16.07\n",
       "Date:                Thu, 11 Aug 2022   Prob (F-statistic):           1.32e-06\n",
       "Time:                        20:42:42   Log-Likelihood:                 105.85\n",
       "No. Observations:                  84   AIC:                            -205.7\n",
       "Df Residuals:                      81   BIC:                            -198.4\n",
       "Df Model:                           2                                         \n",
       "Covariance Type:                  hc0                                         \n",
       "===============================================================================\n",
       "                  coef    std err          z      P>|z|      [0.025      0.975]\n",
       "-------------------------------------------------------------------------------\n",
       "is_news         0.1459      0.049      2.971      0.003       0.050       0.242\n",
       "3_plus_proj     0.3697      0.080      4.632      0.000       0.213       0.526\n",
       "const           0.0053      0.016      0.330      0.741      -0.026       0.037\n",
       "==============================================================================\n",
       "Omnibus:                       30.631   Durbin-Watson:                   1.904\n",
       "Prob(Omnibus):                  0.000   Jarque-Bera (JB):               59.794\n",
       "Skew:                           1.366   Prob(JB):                     1.04e-13\n",
       "Kurtosis:                       6.102   Cond. No.                         11.4\n",
       "==============================================================================\n",
       "\n",
       "Notes:\n",
       "[1] Standard Errors are heteroscedasticity robust (HC0)\n",
       "\"\"\""
      ]
     },
     "execution_count": 23,
     "metadata": {},
     "output_type": "execute_result"
    }
   ],
   "source": [
    "data = construct_data(3, 4, dropoff_pow=0, epsilon=0.001)\n",
    "data = data.set_index(['dis', 'date'])\n",
    "X, y = data.loc[:, ['is_news', '3_plus_proj']], data.iloc[:, -1]\n",
    "X['const'] = 1\n",
    "reg = sm.OLS(y, X).fit(cov_type='hc0')\n",
    "reg.summary()"
   ]
  },
  {
   "cell_type": "code",
   "execution_count": 28,
   "metadata": {},
   "outputs": [
    {
     "data": {
      "image/png": "[encoded data removed]",
      "text/plain": [
       "<Figure size 432x288 with 1 Axes>"
      ]
     },
     "metadata": {
      "needs_background": "light"
     },
     "output_type": "display_data"
    }
   ],
   "source": [
    "fig, ax = plt.subplots()\n",
    "sns.regplot(data=data, x='is_news', y='3_plus', scatter_kws={'alpha': 0.5},  line_kws={'color': 'tab:orange', 'alpha': 0.8}, robust=True, ax=ax)\n",
    "\n",
    "fig.savefig('kenya_reg_scatter.pdf', format='pdf')"
   ]
  }
 ],
 "metadata": {
  "kernelspec": {
   "display_name": "Python 3.10.4 ('geo_env')",
   "language": "python",
   "name": "python3"
  },
  "language_info": {
   "codemirror_mode": {
    "name": "ipython",
    "version": 3
   },
   "file_extension": ".py",
   "mimetype": "text/x-python",
   "name": "python",
   "nbconvert_exporter": "python",
   "pygments_lexer": "ipython3",
   "version": "3.10.4"
  },
  "orig_nbformat": 4,
  "vscode": {
   "interpreter": {
    "hash": "8a36d43513a0c594ef50631855dc064693dac3722a6429bb1ee70e59be59af33"
   }
  }
 },
 "nbformat": 4,
 "nbformat_minor": 2
}
