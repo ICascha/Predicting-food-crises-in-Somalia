{
 "cells": [
  {
   "cell_type": "markdown",
   "metadata": {},
   "source": [
    "# FSNAU scraper\n",
    "\n",
    "Web scraper script for downloading and aggregating monthly FSNAU data from the FSNAU dashboard.\\\n",
    "No infringment intended.\\\n",
    "May stop working in the future.\n"
   ]
  },
  {
   "cell_type": "code",
   "execution_count": 1,
   "metadata": {},
   "outputs": [],
   "source": [
    "from urllib.request import urlopen\n",
    "from bs4 import BeautifulSoup as bs\n",
    "import requests\n",
    "import pandas as pd\n",
    "from login_data import * \n",
    "url = 'https://dashboard.fsnau.org/index/login'\n"
   ]
  },
  {
   "cell_type": "code",
   "execution_count": 2,
   "metadata": {},
   "outputs": [],
   "source": [
    "html = urlopen(url)\n",
    "soup = bs(html, 'html.parser')\n",
    "s = requests.session()\n",
    "\n",
    "# fill in password and username below\n",
    "login_payload = {\n",
    "    'username': USERNAME,\n",
    "    'password': PASSWORD}\n"
   ]
  },
  {
   "cell_type": "code",
   "execution_count": 3,
   "metadata": {},
   "outputs": [
    {
     "name": "stdout",
     "output_type": "stream",
     "text": [
      "True\n"
     ]
    }
   ],
   "source": [
    "login_req = s.post(url, data=login_payload)\n",
    "print(login_req.status_code == 200)\n"
   ]
  },
  {
   "cell_type": "code",
   "execution_count": 4,
   "metadata": {},
   "outputs": [],
   "source": [
    "months = ['Jan', 'Feb', 'Mar', 'Apr', 'May', 'Jun',\n",
    "          'Jul', 'Aug', 'Sept', 'Oct', 'Nov', 'Dec']\n",
    "years = range(2009, 2023)\n",
    "dates = ['01-{}-{}'.format(m, y) for y in years for m in months][:-10]\n"
   ]
  },
  {
   "cell_type": "code",
   "execution_count": 5,
   "metadata": {},
   "outputs": [],
   "source": [
    "data = []\n",
    "first = False\n",
    "for date in dates:\n",
    "    soup = bs(s.get(\n",
    "        'https://dashboard.fsnau.org/dashboard/index/{}'.format(date)).text, 'html.parser')\n",
    "    table = soup.find_all('table')[0]\n",
    "    rows = table.find_all('tr')\n",
    "    for row in rows[1:]:\n",
    "        data.append([])\n",
    "        for cell in row.find_all(['td', 'th']):\n",
    "            data[-1].append(cell.get_text().strip().replace(',', ''))\n",
    "        data[-1].append(date)\n"
   ]
  },
  {
   "cell_type": "code",
   "execution_count": 6,
   "metadata": {},
   "outputs": [],
   "source": [
    "df = pd.DataFrame(data, columns=[r.get_text()\n",
    "                  for r in rows[0].find_all(['td', 'th'])] + ['date'])\n",
    "df.to_csv('../Datasets/fsnau_full.csv', index=False)\n"
   ]
  }
 ],
 "metadata": {
  "kernelspec": {
   "display_name": "Python 3",
   "language": "python",
   "name": "python3"
  },
  "language_info": {
   "codemirror_mode": {
    "name": "ipython",
    "version": 3
   },
   "file_extension": ".py",
   "mimetype": "text/x-python",
   "name": "python",
   "nbconvert_exporter": "python",
   "pygments_lexer": "ipython3",
   "version": "3.8.5"
  }
 },
 "nbformat": 4,
 "nbformat_minor": 4
}
