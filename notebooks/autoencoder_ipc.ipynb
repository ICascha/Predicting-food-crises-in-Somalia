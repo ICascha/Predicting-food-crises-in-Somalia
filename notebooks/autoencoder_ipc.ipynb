{
  "nbformat": 4,
  "nbformat_minor": 0,
  "metadata": {
    "colab": {
      "name": "autoencoder_ipc.ipynb",
      "provenance": [],
      "collapsed_sections": []
    },
    "kernelspec": {
      "name": "python3",
      "display_name": "Python 3"
    },
    "language_info": {
      "name": "python"
    },
    "gpuClass": "standard"
  },
  "cells": [
    {
      "cell_type": "code",
      "source": [
        "from google.colab import drive\n",
        "\n",
        "\n",
        "import pandas as pd\n",
        "import numpy as np\n",
        "from os import listdir\n",
        "import matplotlib.pyplot as plt\n",
        "from sklearn.metrics import r2_score\n",
        "\n",
        "from tensorflow.keras import layers\n",
        "from tensorflow.keras.datasets import mnist\n",
        "from tensorflow.keras.models import Model\n",
        "from tensorflow.keras.utils import plot_model \n",
        "from tensorflow.keras.optimizers import Adam"
      ],
      "metadata": {
        "id": "o0hrD7Q0XPpT"
      },
      "execution_count": null,
      "outputs": []
    },
    {
      "cell_type": "code",
      "execution_count": null,
      "metadata": {
        "id": "fJevVQm1XMAL"
      },
      "outputs": [],
      "source": [
        "df = pd.read_csv(\n",
        "    '/content/ipc_processed.csv', parse_dates=['date'])\n",
        "df = df[df['area'] != 'rab dhuure']\n",
        "df.set_index(['area', 'date'], inplace=True)\n",
        "df.sort_index(inplace=True)\n",
        "df['phase3_perc'] = df['phase3_perc'] + df['phase4_perc'] + df['phase5_perc']\n",
        "df = df[[f'phase{i}_perc' for i in range(1, 4)]].fillna(0)\n",
        "df = df.div(df.sum(axis=1), axis=0)\n",
        "mask = df.reset_index().groupby('area')['date'].count() == 9"
      ]
    },
    {
      "cell_type": "code",
      "source": [
        "drive.mount('/content/drive')"
      ],
      "metadata": {
        "colab": {
          "base_uri": "https://localhost:8080/"
        },
        "id": "Dnj7j5oEf1Xr",
        "outputId": "d3d32f40-26b5-4f20-b3b0-ba5b592d83e7"
      },
      "execution_count": null,
      "outputs": [
        {
          "output_type": "stream",
          "name": "stdout",
          "text": [
            "Drive already mounted at /content/drive; to attempt to forcibly remount, call drive.mount(\"/content/drive\", force_remount=True).\n"
          ]
        }
      ]
    },
    {
      "cell_type": "code",
      "source": [
        "dates = pd.Series(df.index.get_level_values(1).unique()).sort_values()\n",
        "months = dates.dt.month + (dates.dt.year-2017)*12\n",
        "diff = months.diff()[1:].astype(int)"
      ],
      "metadata": {
        "id": "X3aBZLLZ7V_D"
      },
      "execution_count": null,
      "outputs": []
    },
    {
      "cell_type": "code",
      "source": [
        "dates_input = []\n",
        "dates_pred = []\n",
        "\n",
        "for i, rep in enumerate((diff  + 1)):\n",
        "    dates_input += rep * [dates[i]]\n",
        "    dates_pred += rep * [dates[i+1]]"
      ],
      "metadata": {
        "id": "N27X4JT08w-y"
      },
      "execution_count": null,
      "outputs": []
    },
    {
      "cell_type": "code",
      "source": [
        "X = []\n",
        "y = []\n",
        "\n",
        "for year in [2017, 2018]:\n",
        "    dir = f'/content/drive/MyDrive/encodings/{year}_new_encoded/'\n",
        "    for district in listdir(dir):\n",
        "        name = district[:-4]\n",
        "        if name == 'rab dhuure':\n",
        "            continue\n",
        "\n",
        "        data = np.load(dir + district)\n",
        "        n_patches = data.shape[0]\n",
        "        \n",
        "        months = np.zeros(shape=(n_patches, 12, 16, 16, 12))\n",
        "        months[:, 0, :, 0] = 1\n",
        "        months[:, 1, :, 1] = 1\n",
        "        for i in range(12):\n",
        "            months[:, i, :, i] = i\n",
        "\n",
        "        idx = (year-2017)*12\n",
        "        prev_ipc_dist = np.zeros(shape=(n_patches, 12, 16, 16, 3))\n",
        "        for i in range(12):\n",
        "            prev_ipc_dist[:, i, :, :] = df.loc[name].loc[dates_input[i]].to_numpy()\n",
        "            idx += 1\n",
        "\n",
        "\n",
        "        data = np.concatenate((data, months, prev_ipc_dist), axis=-1)\n",
        "        \n",
        "        pred_data = []\n",
        "        idx = (year-2017)*12\n",
        "        for i in range(12):\n",
        "            pred_data.append(df.loc[name].loc[dates_pred[i]].to_numpy())\n",
        "            idx += 1\n",
        "        labels = np.repeat(np.array(pred_data).T, n_patches).reshape(3, 12, n_patches).T.reshape(-1, 3)\n",
        "        data = data.reshape(-1, 16, 16, 79)\n",
        "\n",
        "        X.append(data)\n",
        "        y.append(labels)\n",
        "\n",
        "X = np.concatenate(X, axis=0)\n",
        "y = np.concatenate(y, axis=0)"
      ],
      "metadata": {
        "id": "uRSSsVX3Xbfl"
      },
      "execution_count": null,
      "outputs": []
    },
    {
      "cell_type": "code",
      "source": [
        "X_val = []\n",
        "y_val = []\n",
        "row_idxs = []\n",
        "\n",
        "for year in [2019]:\n",
        "    dir = f'/content/drive/MyDrive/encodings/{year}_new_encoded/'\n",
        "    for district in listdir(dir):\n",
        "        name = district[:-4]\n",
        "        if name == 'rab dhuure':\n",
        "            continue\n",
        "\n",
        "        data = np.load(dir + district)\n",
        "        n_patches = data.shape[0]\n",
        "        \n",
        "        months = np.zeros(shape=(n_patches, 12, 16, 16, 12))\n",
        "        months[:, 0, :, 0] = 1\n",
        "        months[:, 1, :, 1] = 1\n",
        "        for i in range(12):\n",
        "            months[:, i, :, i] = i\n",
        "\n",
        "        idx = (year-2017)*12\n",
        "        prev_ipc_dist = np.zeros(shape=(n_patches, 12, 16, 16, 3))\n",
        "        for i in range(12):\n",
        "            prev_ipc_dist[:, i, :, :] = df.loc[name].loc[dates_input[i]].to_numpy()\n",
        "            idx += 1\n",
        "\n",
        "\n",
        "        data = np.concatenate((data, months, prev_ipc_dist), axis=-1)\n",
        "        \n",
        "        pred_data = []\n",
        "        idx = (year-2017)*12\n",
        "        for i in range(12):\n",
        "            pred_data.append(df.loc[name].loc[dates_pred[i]].to_numpy())\n",
        "            idx += 1\n",
        "        labels = np.repeat(np.array(pred_data).T, n_patches).reshape(3, 12, n_patches).T.reshape(-1, 3)\n",
        "        \n",
        "        data = data.reshape(-1, 16, 16, 79)\n",
        "\n",
        "        X_val.append(data)\n",
        "        y_val.append(labels)\n",
        "\n",
        "        row_idx = np.array([(name, dates_pred[(year-2017)*12 + i]) for i in range(1, 13)])\n",
        "        row_idxs.append(np.repeat(row_idx.T, n_patches).reshape(2, 12, n_patches).T.reshape(-1, 2))\n",
        "\n",
        "X_val = np.concatenate(X_val, axis=0)\n",
        "y_val = np.concatenate(y_val, axis=0)\n",
        "row_idxs = np.concatenate(row_idxs, axis=0)"
      ],
      "metadata": {
        "id": "xZPcYdyVXiHW"
      },
      "execution_count": null,
      "outputs": []
    },
    {
      "cell_type": "code",
      "source": [
        "def encoder_block(x, n_filters_in, n_filters_out, n_convs=1, activation=\"relu\", batchNorm=False):\n",
        "    x_in = x\n",
        "    for _ in range(n_convs):\n",
        "        x = layers.Conv2D(n_filters_in, (3, 3), activation=activation, padding=\"same\")(x)\n",
        "        if batchNorm:\n",
        "            x = layers.BatchNormalization()(x)\n",
        "    \n",
        "    if x_in.shape[-1] != x.shape[-1]:\n",
        "            x_in = layers.Conv2D(n_filters_in, (1, 1), padding=\"same\")(x_in)\n",
        "    x = layers.Add()([x, x_in])\n",
        "\n",
        "    y = layers.Conv2D(n_filters_out, (3, 3), strides=2, activation=activation, padding=\"same\")(x)\n",
        "    if batchNorm:\n",
        "            y = layers.BatchNormalization()(y)\n",
        "    x = layers.Conv2D(n_filters_out, (1, 1), strides=2, padding=\"same\")(x)\n",
        "    x_out = layers.Add()([y, x])\n",
        "    return x_out"
      ],
      "metadata": {
        "id": "8YUHCa9KXigs"
      },
      "execution_count": null,
      "outputs": []
    },
    {
      "cell_type": "code",
      "source": [
        "input = layers.Input(shape=(16, 16, 79))\n",
        "x = encoder_block(input, 256, 256, n_convs=2, batchNorm=True)\n",
        "x = layers.Flatten()(x)\n",
        "x = layers.Dense(25, activation=\"relu\")(x)\n",
        "x = layers.BatchNormalization()(x)\n",
        "x = layers.Dense(25, activation=\"relu\")(x)\n",
        "x = layers.Dense(3, activation=\"softmax\")(x)\n",
        "model = Model(input, x)\n",
        "model.compile(optimizer=Adam(learning_rate=3e-4), loss=\"CategoricalCrossentropy\")"
      ],
      "metadata": {
        "id": "OIk7TacBXkPm"
      },
      "execution_count": null,
      "outputs": []
    },
    {
      "cell_type": "code",
      "source": [
        "model.summary()"
      ],
      "metadata": {
        "id": "VIiV9Zhchc9a",
        "outputId": "50e6cf2a-4da7-472a-a289-e199ca67697d",
        "colab": {
          "base_uri": "https://localhost:8080/"
        }
      },
      "execution_count": null,
      "outputs": [
        {
          "output_type": "stream",
          "name": "stdout",
          "text": [
            "Model: \"model_1\"\n",
            "__________________________________________________________________________________________________\n",
            " Layer (type)                   Output Shape         Param #     Connected to                     \n",
            "==================================================================================================\n",
            " input_2 (InputLayer)           [(None, 16, 16, 79)  0           []                               \n",
            "                                ]                                                                 \n",
            "                                                                                                  \n",
            " conv2d_5 (Conv2D)              (None, 16, 16, 256)  182272      ['input_2[0][0]']                \n",
            "                                                                                                  \n",
            " batch_normalization_4 (BatchNo  (None, 16, 16, 256)  1024       ['conv2d_5[0][0]']               \n",
            " rmalization)                                                                                     \n",
            "                                                                                                  \n",
            " conv2d_6 (Conv2D)              (None, 16, 16, 256)  590080      ['batch_normalization_4[0][0]']  \n",
            "                                                                                                  \n",
            " batch_normalization_5 (BatchNo  (None, 16, 16, 256)  1024       ['conv2d_6[0][0]']               \n",
            " rmalization)                                                                                     \n",
            "                                                                                                  \n",
            " conv2d_7 (Conv2D)              (None, 16, 16, 256)  20480       ['input_2[0][0]']                \n",
            "                                                                                                  \n",
            " add_2 (Add)                    (None, 16, 16, 256)  0           ['batch_normalization_5[0][0]',  \n",
            "                                                                  'conv2d_7[0][0]']               \n",
            "                                                                                                  \n",
            " conv2d_8 (Conv2D)              (None, 8, 8, 256)    590080      ['add_2[0][0]']                  \n",
            "                                                                                                  \n",
            " batch_normalization_6 (BatchNo  (None, 8, 8, 256)   1024        ['conv2d_8[0][0]']               \n",
            " rmalization)                                                                                     \n",
            "                                                                                                  \n",
            " conv2d_9 (Conv2D)              (None, 8, 8, 256)    65792       ['add_2[0][0]']                  \n",
            "                                                                                                  \n",
            " add_3 (Add)                    (None, 8, 8, 256)    0           ['batch_normalization_6[0][0]',  \n",
            "                                                                  'conv2d_9[0][0]']               \n",
            "                                                                                                  \n",
            " flatten_1 (Flatten)            (None, 16384)        0           ['add_3[0][0]']                  \n",
            "                                                                                                  \n",
            " dense_3 (Dense)                (None, 25)           409625      ['flatten_1[0][0]']              \n",
            "                                                                                                  \n",
            " batch_normalization_7 (BatchNo  (None, 25)          100         ['dense_3[0][0]']                \n",
            " rmalization)                                                                                     \n",
            "                                                                                                  \n",
            " dense_4 (Dense)                (None, 25)           650         ['batch_normalization_7[0][0]']  \n",
            "                                                                                                  \n",
            " dense_5 (Dense)                (None, 3)            78          ['dense_4[0][0]']                \n",
            "                                                                                                  \n",
            "==================================================================================================\n",
            "Total params: 1,862,229\n",
            "Trainable params: 1,860,643\n",
            "Non-trainable params: 1,586\n",
            "__________________________________________________________________________________________________\n"
          ]
        }
      ]
    },
    {
      "cell_type": "code",
      "source": [
        "history = model.fit(x=X, y=y, epochs=100, batch_size=64, shuffle=True, validation_data=(X_val, y_val))"
      ],
      "metadata": {
        "colab": {
          "base_uri": "https://localhost:8080/"
        },
        "id": "v9_0qldMX4Cp",
        "outputId": "f9f20057-f762-4b38-e1b3-ea41ab2649ca"
      },
      "execution_count": null,
      "outputs": [
        {
          "output_type": "stream",
          "name": "stdout",
          "text": [
            "Epoch 1/100\n",
            "329/329 [==============================] - 9s 21ms/step - loss: 0.9464 - val_loss: 0.9362\n",
            "Epoch 2/100\n",
            "329/329 [==============================] - 6s 17ms/step - loss: 0.9191 - val_loss: 0.9182\n",
            "Epoch 3/100\n",
            "329/329 [==============================] - 6s 17ms/step - loss: 0.9083 - val_loss: 0.9126\n",
            "Epoch 4/100\n",
            "329/329 [==============================] - 6s 17ms/step - loss: 0.9028 - val_loss: 0.9088\n",
            "Epoch 5/100\n",
            "329/329 [==============================] - 6s 17ms/step - loss: 0.8998 - val_loss: 0.9075\n",
            "Epoch 6/100\n",
            "329/329 [==============================] - 6s 17ms/step - loss: 0.8978 - val_loss: 0.9056\n",
            "Epoch 7/100\n",
            "329/329 [==============================] - 6s 17ms/step - loss: 0.8966 - val_loss: 0.9066\n",
            "Epoch 8/100\n",
            "329/329 [==============================] - 6s 17ms/step - loss: 0.8955 - val_loss: 0.9026\n",
            "Epoch 9/100\n",
            "329/329 [==============================] - 6s 17ms/step - loss: 0.8952 - val_loss: 0.9031\n",
            "Epoch 10/100\n",
            "329/329 [==============================] - 6s 17ms/step - loss: 0.8943 - val_loss: 0.9060\n",
            "Epoch 11/100\n",
            "329/329 [==============================] - 6s 17ms/step - loss: 0.8945 - val_loss: 0.9028\n",
            "Epoch 12/100\n",
            "329/329 [==============================] - 6s 17ms/step - loss: 0.8953 - val_loss: 0.9052\n",
            "Epoch 13/100\n",
            "329/329 [==============================] - 6s 17ms/step - loss: 0.8951 - val_loss: 0.9018\n",
            "Epoch 14/100\n",
            "329/329 [==============================] - 6s 17ms/step - loss: 0.8960 - val_loss: 0.9106\n",
            "Epoch 15/100\n",
            "329/329 [==============================] - 6s 17ms/step - loss: 0.8951 - val_loss: 0.9015\n",
            "Epoch 16/100\n",
            "329/329 [==============================] - 6s 18ms/step - loss: 0.8929 - val_loss: 0.9023\n",
            "Epoch 17/100\n",
            "329/329 [==============================] - 6s 17ms/step - loss: 0.8931 - val_loss: 0.9013\n",
            "Epoch 18/100\n",
            "329/329 [==============================] - 6s 17ms/step - loss: 0.8922 - val_loss: 0.9010\n",
            "Epoch 19/100\n",
            "329/329 [==============================] - 6s 17ms/step - loss: 0.8920 - val_loss: 0.9013\n",
            "Epoch 20/100\n",
            "329/329 [==============================] - 6s 17ms/step - loss: 0.8920 - val_loss: 0.9017\n",
            "Epoch 21/100\n",
            "329/329 [==============================] - 6s 17ms/step - loss: 0.8918 - val_loss: 0.9019\n",
            "Epoch 22/100\n",
            "329/329 [==============================] - 6s 17ms/step - loss: 0.8925 - val_loss: 0.9000\n",
            "Epoch 23/100\n",
            "329/329 [==============================] - 6s 18ms/step - loss: 0.8919 - val_loss: 0.8997\n",
            "Epoch 24/100\n",
            "329/329 [==============================] - 6s 17ms/step - loss: 0.8917 - val_loss: 0.9001\n",
            "Epoch 25/100\n",
            "329/329 [==============================] - 6s 17ms/step - loss: 0.8916 - val_loss: 0.9014\n",
            "Epoch 26/100\n",
            "329/329 [==============================] - 6s 17ms/step - loss: 0.8919 - val_loss: 0.9004\n",
            "Epoch 27/100\n",
            "329/329 [==============================] - 6s 17ms/step - loss: 0.8913 - val_loss: 0.8995\n",
            "Epoch 28/100\n",
            "329/329 [==============================] - 6s 17ms/step - loss: 0.8912 - val_loss: 0.8993\n",
            "Epoch 29/100\n",
            "329/329 [==============================] - 6s 18ms/step - loss: 0.8918 - val_loss: 0.8994\n",
            "Epoch 30/100\n",
            "329/329 [==============================] - 6s 17ms/step - loss: 0.8911 - val_loss: 0.8990\n",
            "Epoch 31/100\n",
            "329/329 [==============================] - 6s 17ms/step - loss: 0.8909 - val_loss: 0.8994\n",
            "Epoch 32/100\n",
            "329/329 [==============================] - 6s 17ms/step - loss: 0.8909 - val_loss: 0.9000\n",
            "Epoch 33/100\n",
            "329/329 [==============================] - 6s 17ms/step - loss: 0.8908 - val_loss: 0.8994\n",
            "Epoch 34/100\n",
            "329/329 [==============================] - 6s 17ms/step - loss: 0.8911 - val_loss: 0.8987\n",
            "Epoch 35/100\n",
            "329/329 [==============================] - 6s 17ms/step - loss: 0.8909 - val_loss: 0.8989\n",
            "Epoch 36/100\n",
            "329/329 [==============================] - 6s 17ms/step - loss: 0.8905 - val_loss: 0.8988\n",
            "Epoch 37/100\n",
            "329/329 [==============================] - 6s 17ms/step - loss: 0.8914 - val_loss: 0.8988\n",
            "Epoch 38/100\n",
            "329/329 [==============================] - 6s 17ms/step - loss: 0.8920 - val_loss: 0.8997\n",
            "Epoch 39/100\n",
            "329/329 [==============================] - 6s 17ms/step - loss: 0.8906 - val_loss: 0.8987\n",
            "Epoch 40/100\n",
            "329/329 [==============================] - 6s 17ms/step - loss: 0.8903 - val_loss: 0.8992\n",
            "Epoch 41/100\n",
            "329/329 [==============================] - 6s 17ms/step - loss: 0.8904 - val_loss: 0.8983\n",
            "Epoch 42/100\n",
            "329/329 [==============================] - 6s 17ms/step - loss: 0.8902 - val_loss: 0.8982\n",
            "Epoch 43/100\n",
            "329/329 [==============================] - 6s 17ms/step - loss: 0.8902 - val_loss: 0.8987\n",
            "Epoch 44/100\n",
            "329/329 [==============================] - 6s 18ms/step - loss: 0.8903 - val_loss: 0.8988\n",
            "Epoch 45/100\n",
            "329/329 [==============================] - 6s 17ms/step - loss: 0.8903 - val_loss: 0.9012\n",
            "Epoch 46/100\n",
            "329/329 [==============================] - 6s 17ms/step - loss: 0.8906 - val_loss: 0.8995\n",
            "Epoch 47/100\n",
            "329/329 [==============================] - 6s 17ms/step - loss: 0.8903 - val_loss: 0.8982\n",
            "Epoch 48/100\n",
            "329/329 [==============================] - 6s 17ms/step - loss: 0.8903 - val_loss: 0.8994\n",
            "Epoch 49/100\n",
            "329/329 [==============================] - 6s 17ms/step - loss: 0.8901 - val_loss: 0.8975\n",
            "Epoch 50/100\n",
            "329/329 [==============================] - 6s 17ms/step - loss: 0.8900 - val_loss: 0.8981\n",
            "Epoch 51/100\n",
            "329/329 [==============================] - 6s 17ms/step - loss: 0.8899 - val_loss: 0.8979\n",
            "Epoch 52/100\n",
            "329/329 [==============================] - 6s 17ms/step - loss: 0.8899 - val_loss: 0.8982\n",
            "Epoch 53/100\n",
            "329/329 [==============================] - 6s 17ms/step - loss: 0.8900 - val_loss: 0.8976\n",
            "Epoch 54/100\n",
            "329/329 [==============================] - 6s 17ms/step - loss: 0.8900 - val_loss: 0.8980\n",
            "Epoch 55/100\n",
            "329/329 [==============================] - 6s 17ms/step - loss: 0.8899 - val_loss: 0.8976\n",
            "Epoch 56/100\n",
            "329/329 [==============================] - 6s 17ms/step - loss: 0.8898 - val_loss: 0.8974\n",
            "Epoch 57/100\n",
            "329/329 [==============================] - 6s 18ms/step - loss: 0.8900 - val_loss: 0.8978\n",
            "Epoch 58/100\n",
            "329/329 [==============================] - 6s 18ms/step - loss: 0.8901 - val_loss: 0.8982\n",
            "Epoch 59/100\n",
            "329/329 [==============================] - 6s 17ms/step - loss: 0.8899 - val_loss: 0.8977\n",
            "Epoch 60/100\n",
            "329/329 [==============================] - 6s 17ms/step - loss: 0.8897 - val_loss: 0.8975\n",
            "Epoch 61/100\n",
            "329/329 [==============================] - 6s 17ms/step - loss: 0.8897 - val_loss: 0.8970\n",
            "Epoch 62/100\n",
            "329/329 [==============================] - 6s 18ms/step - loss: 0.8898 - val_loss: 0.8984\n",
            "Epoch 63/100\n",
            "329/329 [==============================] - 6s 18ms/step - loss: 0.8899 - val_loss: 0.8973\n",
            "Epoch 64/100\n",
            "329/329 [==============================] - 6s 17ms/step - loss: 0.8900 - val_loss: 0.8972\n",
            "Epoch 65/100\n",
            "329/329 [==============================] - 6s 17ms/step - loss: 0.8897 - val_loss: 0.8972\n",
            "Epoch 66/100\n",
            "329/329 [==============================] - 6s 18ms/step - loss: 0.8897 - val_loss: 0.8974\n",
            "Epoch 67/100\n",
            "329/329 [==============================] - 6s 17ms/step - loss: 0.8897 - val_loss: 0.8973\n",
            "Epoch 68/100\n",
            "329/329 [==============================] - 6s 17ms/step - loss: 0.8896 - val_loss: 0.8974\n",
            "Epoch 69/100\n",
            "329/329 [==============================] - 6s 17ms/step - loss: 0.8899 - val_loss: 0.8973\n",
            "Epoch 70/100\n",
            "329/329 [==============================] - 6s 17ms/step - loss: 0.8897 - val_loss: 0.8972\n",
            "Epoch 71/100\n",
            "329/329 [==============================] - 6s 17ms/step - loss: 0.8897 - val_loss: 0.9050\n",
            "Epoch 72/100\n",
            "329/329 [==============================] - 6s 17ms/step - loss: 0.8898 - val_loss: 0.8973\n",
            "Epoch 73/100\n",
            "329/329 [==============================] - 6s 17ms/step - loss: 0.8896 - val_loss: 0.8969\n",
            "Epoch 74/100\n",
            "329/329 [==============================] - 6s 17ms/step - loss: 0.8896 - val_loss: 0.8972\n",
            "Epoch 75/100\n",
            "329/329 [==============================] - 6s 17ms/step - loss: 0.8894 - val_loss: 0.8972\n",
            "Epoch 76/100\n",
            "329/329 [==============================] - 6s 17ms/step - loss: 0.8894 - val_loss: 0.8969\n",
            "Epoch 77/100\n",
            "329/329 [==============================] - 6s 17ms/step - loss: 0.8895 - val_loss: 0.8971\n",
            "Epoch 78/100\n",
            "329/329 [==============================] - 6s 17ms/step - loss: 0.8894 - val_loss: 0.8974\n",
            "Epoch 79/100\n",
            "329/329 [==============================] - 6s 17ms/step - loss: 0.8895 - val_loss: 0.8973\n",
            "Epoch 80/100\n",
            "329/329 [==============================] - 6s 17ms/step - loss: 0.8896 - val_loss: 0.8972\n",
            "Epoch 81/100\n",
            "329/329 [==============================] - 6s 17ms/step - loss: 0.8895 - val_loss: 0.8972\n",
            "Epoch 82/100\n",
            "329/329 [==============================] - 6s 17ms/step - loss: 0.8895 - val_loss: 0.8970\n",
            "Epoch 83/100\n",
            "329/329 [==============================] - 6s 17ms/step - loss: 0.8895 - val_loss: 0.8975\n",
            "Epoch 84/100\n",
            "329/329 [==============================] - 6s 17ms/step - loss: 0.8897 - val_loss: 0.8972\n",
            "Epoch 85/100\n",
            "329/329 [==============================] - 6s 17ms/step - loss: 0.8895 - val_loss: 0.8974\n",
            "Epoch 86/100\n",
            "329/329 [==============================] - 6s 17ms/step - loss: 0.8894 - val_loss: 0.8972\n",
            "Epoch 87/100\n",
            "329/329 [==============================] - 6s 17ms/step - loss: 0.8895 - val_loss: 0.8967\n",
            "Epoch 88/100\n",
            "329/329 [==============================] - 6s 18ms/step - loss: 0.8894 - val_loss: 0.8969\n",
            "Epoch 89/100\n",
            "329/329 [==============================] - 6s 17ms/step - loss: 0.8894 - val_loss: 0.8985\n",
            "Epoch 90/100\n",
            "329/329 [==============================] - 6s 17ms/step - loss: 0.8894 - val_loss: 0.8968\n",
            "Epoch 91/100\n",
            "329/329 [==============================] - 6s 17ms/step - loss: 0.8893 - val_loss: 0.8968\n",
            "Epoch 92/100\n",
            "329/329 [==============================] - 6s 17ms/step - loss: 0.8893 - val_loss: 0.8976\n",
            "Epoch 93/100\n",
            "329/329 [==============================] - 6s 17ms/step - loss: 0.8894 - val_loss: 0.8969\n",
            "Epoch 94/100\n",
            "329/329 [==============================] - 6s 17ms/step - loss: 0.8897 - val_loss: 0.8971\n",
            "Epoch 95/100\n",
            "329/329 [==============================] - 6s 17ms/step - loss: 0.8895 - val_loss: 0.8969\n",
            "Epoch 96/100\n",
            "329/329 [==============================] - 6s 17ms/step - loss: 0.8893 - val_loss: 0.8970\n",
            "Epoch 97/100\n",
            "329/329 [==============================] - 6s 17ms/step - loss: 0.8894 - val_loss: 0.8968\n",
            "Epoch 98/100\n",
            "329/329 [==============================] - 6s 17ms/step - loss: 0.8893 - val_loss: 0.8968\n",
            "Epoch 99/100\n",
            "329/329 [==============================] - 6s 17ms/step - loss: 0.8893 - val_loss: 0.8967\n",
            "Epoch 100/100\n",
            "329/329 [==============================] - 6s 17ms/step - loss: 0.8892 - val_loss: 0.8966\n"
          ]
        }
      ]
    },
    {
      "cell_type": "code",
      "source": [
        "fig, ax = plt.subplots()\n",
        "\n",
        "ax.plot(history.history['loss'])\n",
        "ax.plot(history.history['val_loss'])\n",
        "ax.legend(['Training loss', 'Validation loss'])\n",
        "\n",
        "ax.set_xlabel('# Epochs')\n",
        "ax.set_ylabel('Cross-entropy loss')\n",
        "\n",
        "fig.savefig('ipc_downstream_loss_64.pdf', format='pdf')"
      ],
      "metadata": {
        "colab": {
          "base_uri": "https://localhost:8080/",
          "height": 279
        },
        "id": "FJ1qFzX1ItS6",
        "outputId": "afd27556-b317-4536-9a0a-8fa173d3586c"
      },
      "execution_count": null,
      "outputs": [
        {
          "output_type": "display_data",
          "data": {
            "text/plain": [
              "<Figure size 432x288 with 1 Axes>"
            ],
            "image/png": "[encoded data removed]"
          },
          "metadata": {
            "needs_background": "light"
          }
        }
      ]
    },
    {
      "cell_type": "code",
      "source": [
        "X_val = []\n",
        "y_val = []\n",
        "row_idxs = []\n",
        "\n",
        "for year in [2019, 2020]:\n",
        "    dir = f'/content/drive/MyDrive/encodings/{year}_new_encoded/'\n",
        "    for district in listdir(dir):\n",
        "        name = district[:-4]\n",
        "        if name == 'rab dhuure':\n",
        "            continue\n",
        "\n",
        "        data = np.load(dir + district)\n",
        "        n_patches = data.shape[0]\n",
        "        \n",
        "        months = np.zeros(shape=(n_patches, 12, 16, 16, 12))\n",
        "        months[:, 0, :, 0] = 1\n",
        "        months[:, 1, :, 1] = 1\n",
        "        for i in range(12):\n",
        "            months[:, i, :, i] = i\n",
        "\n",
        "        idx = (year-2017)*12\n",
        "        prev_ipc_dist = np.zeros(shape=(n_patches, 12, 16, 16, 3))\n",
        "        for i in range(12):\n",
        "            prev_ipc_dist[:, i, :, :] = df.loc[name].loc[dates_input[i]].to_numpy()\n",
        "            idx += 1\n",
        "\n",
        "\n",
        "        data = np.concatenate((data, months, prev_ipc_dist), axis=-1)\n",
        "        \n",
        "        pred_data = []\n",
        "        idx = (year-2017)*12\n",
        "        for i in range(12):\n",
        "            pred_data.append(df.loc[name].loc[dates_pred[i]].to_numpy())\n",
        "            idx += 1\n",
        "        labels = np.repeat(np.array(pred_data).T, n_patches).reshape(3, 12, n_patches).T.reshape(-1, 3)\n",
        "        \n",
        "        data = data.reshape(-1, 16, 16, 79)\n",
        "\n",
        "        X_val.append(data)\n",
        "        y_val.append(labels)\n",
        "\n",
        "        row_idx = np.array([(name, dates_pred[(year-2017)*12 + i]) for i in range(1, 13)])\n",
        "        row_idxs.append(np.repeat(row_idx.T, n_patches).reshape(2, 12, n_patches).T.reshape(-1, 2))\n",
        "\n",
        "X_val = np.concatenate(X_val, axis=0)\n",
        "y_val = np.concatenate(y_val, axis=0)\n",
        "row_idxs = np.concatenate(row_idxs, axis=0)"
      ],
      "metadata": {
        "id": "5hQHfk9RWh7o"
      },
      "execution_count": null,
      "outputs": []
    },
    {
      "cell_type": "code",
      "source": [
        "y_pred = []\n",
        "for i in range(0, len(X_val), 64):\n",
        "    y_pred.append(model.predict(X_val[i:i+64]))\n",
        "\n",
        "y_pred = np.concatenate(y_pred, axis=0)"
      ],
      "metadata": {
        "id": "3VSGNUMHKEbo"
      },
      "execution_count": null,
      "outputs": []
    },
    {
      "cell_type": "code",
      "source": [
        "pred_df = pd.DataFrame(np.hstack([row_idxs, y_pred]))\n",
        "pred_df.columns = ['area', 'date', 'phase1_perc_pred', 'phase2_perc_pred', 'phase3_perc_pred']\n",
        "pred_df = pred_df.groupby(['area', 'date']).mean().join(df)"
      ],
      "metadata": {
        "id": "IW0ykpuKUZB8"
      },
      "execution_count": null,
      "outputs": []
    },
    {
      "cell_type": "code",
      "source": [
        "fig, ax = plt.subplots()\n",
        "\n",
        "(pred_df.groupby('date').mean()['phase1_perc_pred']*100).plot()\n",
        "(pred_df.groupby('date').mean()['phase1_perc']*100).plot()\n",
        "\n",
        "ax.set_xlabel('Date')\n",
        "ax.set_ylabel('Mean percentage in phase 1')\n",
        "fig.savefig('perc_1_error.pdf', format='pdf')"
      ],
      "metadata": {
        "colab": {
          "base_uri": "https://localhost:8080/",
          "height": 281
        },
        "id": "7s0h41L8VLKP",
        "outputId": "fd649ada-f8ba-4ae3-b735-b893f0b41e6c"
      },
      "execution_count": null,
      "outputs": [
        {
          "output_type": "display_data",
          "data": {
            "text/plain": [
              "<Figure size 432x288 with 1 Axes>"
            ],
            "image/png": "[encoded data removed]"
          },
          "metadata": {
            "needs_background": "light"
          }
        }
      ]
    },
    {
      "cell_type": "code",
      "source": [
        "fig, ax = plt.subplots()\n",
        "\n",
        "(pred_df.groupby('date').mean()['phase2_perc_pred']*100).plot()\n",
        "(pred_df.groupby('date').mean()['phase2_perc']*100).plot()\n",
        "\n",
        "ax.set_xlabel('Date')\n",
        "ax.set_ylabel('Mean percentage in phase 2')\n",
        "fig.savefig('perc_2_error.pdf', format='pdf')"
      ],
      "metadata": {
        "colab": {
          "base_uri": "https://localhost:8080/",
          "height": 278
        },
        "id": "WLVM2uR2WU-v",
        "outputId": "405f1d15-8f3c-4bb1-98c9-61da503de805"
      },
      "execution_count": null,
      "outputs": [
        {
          "output_type": "display_data",
          "data": {
            "text/plain": [
              "<Figure size 432x288 with 1 Axes>"
            ],
            "image/png": "[encoded data removed]"
          },
          "metadata": {
            "needs_background": "light"
          }
        }
      ]
    },
    {
      "cell_type": "code",
      "source": [
        "fig, ax = plt.subplots()\n",
        "\n",
        "pred_df.groupby('date').mean()['phase3_perc_pred'].plot()\n",
        "pred_df.groupby('date').mean()['phase3_perc'].plot()\n",
        "\n",
        "ax.set_xlabel('Date')\n",
        "ax.set_ylabel('Mean percentage in phase 3')\n",
        "fig.savefig('perc_3_error.pdf', format='pdf')"
      ],
      "metadata": {
        "colab": {
          "base_uri": "https://localhost:8080/",
          "height": 277
        },
        "id": "2aRbdGIjWXbZ",
        "outputId": "b019de14-e875-4edf-ffa6-5e32593e984c"
      },
      "execution_count": null,
      "outputs": [
        {
          "output_type": "display_data",
          "data": {
            "text/plain": [
              "<Figure size 432x288 with 1 Axes>"
            ],
            "image/png": "[encoded data removed]"
          },
          "metadata": {
            "needs_background": "light"
          }
        }
      ]
    }
  ]
}